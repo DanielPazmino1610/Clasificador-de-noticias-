{
  "nbformat": 4,
  "nbformat_minor": 0,
  "metadata": {
    "colab": {
      "provenance": []
    },
    "kernelspec": {
      "name": "python3",
      "display_name": "Python 3"
    },
    "language_info": {
      "name": "python"
    },
    "widgets": {
      "application/vnd.jupyter.widget-state+json": {
        "6c17baf5b2ce4111a7a6621bc50cca5b": {
          "model_module": "@jupyter-widgets/controls",
          "model_name": "FileUploadModel",
          "model_module_version": "1.5.0",
          "state": {
            "_counter": 2,
            "_dom_classes": [],
            "_model_module": "@jupyter-widgets/controls",
            "_model_module_version": "1.5.0",
            "_model_name": "FileUploadModel",
            "_view_count": null,
            "_view_module": "@jupyter-widgets/controls",
            "_view_module_version": "1.5.0",
            "_view_name": "FileUploadView",
            "accept": ".csv",
            "button_style": "",
            "data": [
              null
            ],
            "description": "Cargar archivo",
            "description_tooltip": null,
            "disabled": false,
            "error": "",
            "icon": "upload",
            "layout": "IPY_MODEL_4668393357a244a68dcaab55e136f317",
            "metadata": [
              {
                "name": "test_3news.csv",
                "type": "text/csv",
                "size": 4827,
                "lastModified": 1684194254845
              }
            ],
            "multiple": false,
            "style": "IPY_MODEL_000fc4f0a5f742ffb26dcbaf30d213cc"
          }
        },
        "4668393357a244a68dcaab55e136f317": {
          "model_module": "@jupyter-widgets/base",
          "model_name": "LayoutModel",
          "model_module_version": "1.2.0",
          "state": {
            "_model_module": "@jupyter-widgets/base",
            "_model_module_version": "1.2.0",
            "_model_name": "LayoutModel",
            "_view_count": null,
            "_view_module": "@jupyter-widgets/base",
            "_view_module_version": "1.2.0",
            "_view_name": "LayoutView",
            "align_content": null,
            "align_items": null,
            "align_self": null,
            "border": null,
            "bottom": null,
            "display": null,
            "flex": null,
            "flex_flow": null,
            "grid_area": null,
            "grid_auto_columns": null,
            "grid_auto_flow": null,
            "grid_auto_rows": null,
            "grid_column": null,
            "grid_gap": null,
            "grid_row": null,
            "grid_template_areas": null,
            "grid_template_columns": null,
            "grid_template_rows": null,
            "height": null,
            "justify_content": null,
            "justify_items": null,
            "left": null,
            "margin": null,
            "max_height": null,
            "max_width": null,
            "min_height": null,
            "min_width": null,
            "object_fit": null,
            "object_position": null,
            "order": null,
            "overflow": null,
            "overflow_x": null,
            "overflow_y": null,
            "padding": null,
            "right": null,
            "top": null,
            "visibility": null,
            "width": null
          }
        },
        "000fc4f0a5f742ffb26dcbaf30d213cc": {
          "model_module": "@jupyter-widgets/controls",
          "model_name": "ButtonStyleModel",
          "model_module_version": "1.5.0",
          "state": {
            "_model_module": "@jupyter-widgets/controls",
            "_model_module_version": "1.5.0",
            "_model_name": "ButtonStyleModel",
            "_view_count": null,
            "_view_module": "@jupyter-widgets/base",
            "_view_module_version": "1.2.0",
            "_view_name": "StyleView",
            "button_color": null,
            "font_weight": ""
          }
        }
      }
    }
  },
  "cells": [
    {
      "cell_type": "code",
      "source": [
        "# Download Java\n",
        "!apt-get install openjdk-8-jdk-headless -qq > /dev/null\n",
        "!pip install pyspark==3.3.2\n",
        "# Next, we will install Apache Spark 3.0.1 with Hadoop 2.7 from here.\n",
        "!wget https://dlcdn.apache.org/spark/spark-3.3.2/spark-3.3.2-bin-hadoop3.tgz\n",
        "# Now, we just need to unzip that folder.\n",
        "!tar xf spark-3.3.2-bin-hadoop3.tgz\n",
        "import os\n",
        "os.environ[\"JAVA_HOME\"] = \"/usr/lib/jvm/java-8-openjdk-amd64\"\n",
        "os.environ[\"SPARK_HOME\"] = \"/content/spark-3.3.2-bin-hadoop3\"\n",
        "# Installing required packages\n",
        "!pip install pyspark\n",
        "!pip install findspark"
      ],
      "metadata": {
        "id": "31foJuULb7ER",
        "colab": {
          "base_uri": "https://localhost:8080/"
        },
        "outputId": "b7bb7fe2-ff37-4adf-941a-dfa55d9ee927"
      },
      "execution_count": null,
      "outputs": [
        {
          "output_type": "stream",
          "name": "stdout",
          "text": [
            "Looking in indexes: https://pypi.org/simple, https://us-python.pkg.dev/colab-wheels/public/simple/\n",
            "Collecting pyspark==3.3.2\n",
            "  Downloading pyspark-3.3.2.tar.gz (281.4 MB)\n",
            "\u001b[2K     \u001b[90m━━━━━━━━━━━━━━━━━━━━━━━━━━━━━━━━━━━━━━━\u001b[0m \u001b[32m281.4/281.4 MB\u001b[0m \u001b[31m2.4 MB/s\u001b[0m eta \u001b[36m0:00:00\u001b[0m\n",
            "\u001b[?25h  Preparing metadata (setup.py) ... \u001b[?25l\u001b[?25hdone\n",
            "Collecting py4j==0.10.9.5 (from pyspark==3.3.2)\n",
            "  Downloading py4j-0.10.9.5-py2.py3-none-any.whl (199 kB)\n",
            "\u001b[2K     \u001b[90m━━━━━━━━━━━━━━━━━━━━━━━━━━━━━━━━━━━━━━\u001b[0m \u001b[32m199.7/199.7 kB\u001b[0m \u001b[31m17.8 MB/s\u001b[0m eta \u001b[36m0:00:00\u001b[0m\n",
            "\u001b[?25hBuilding wheels for collected packages: pyspark\n",
            "  Building wheel for pyspark (setup.py) ... \u001b[?25l\u001b[?25hdone\n",
            "  Created wheel for pyspark: filename=pyspark-3.3.2-py2.py3-none-any.whl size=281824013 sha256=6a83b4562b5df0a0b794f31ae8cf16587b8f25d17f0af953dd4dd210372a907d\n",
            "  Stored in directory: /root/.cache/pip/wheels/89/d6/52/1178e354ba2207673484f0ccd7b2ded0ab6671ae5c1fc5b49a\n",
            "Successfully built pyspark\n",
            "Installing collected packages: py4j, pyspark\n",
            "  Attempting uninstall: py4j\n",
            "    Found existing installation: py4j 0.10.9.7\n",
            "    Uninstalling py4j-0.10.9.7:\n",
            "      Successfully uninstalled py4j-0.10.9.7\n",
            "Successfully installed py4j-0.10.9.5 pyspark-3.3.2\n",
            "--2023-05-17 23:40:56--  https://dlcdn.apache.org/spark/spark-3.3.2/spark-3.3.2-bin-hadoop3.tgz\n",
            "Resolving dlcdn.apache.org (dlcdn.apache.org)... 151.101.2.132, 2a04:4e42::644\n",
            "Connecting to dlcdn.apache.org (dlcdn.apache.org)|151.101.2.132|:443... connected.\n",
            "HTTP request sent, awaiting response... 200 OK\n",
            "Length: 299360284 (285M) [application/x-gzip]\n",
            "Saving to: ‘spark-3.3.2-bin-hadoop3.tgz’\n",
            "\n",
            "spark-3.3.2-bin-had 100%[===================>] 285.49M   236MB/s    in 1.2s    \n",
            "\n",
            "2023-05-17 23:40:58 (236 MB/s) - ‘spark-3.3.2-bin-hadoop3.tgz’ saved [299360284/299360284]\n",
            "\n",
            "Looking in indexes: https://pypi.org/simple, https://us-python.pkg.dev/colab-wheels/public/simple/\n",
            "Requirement already satisfied: pyspark in /usr/local/lib/python3.10/dist-packages (3.3.2)\n",
            "Requirement already satisfied: py4j==0.10.9.5 in /usr/local/lib/python3.10/dist-packages (from pyspark) (0.10.9.5)\n",
            "Looking in indexes: https://pypi.org/simple, https://us-python.pkg.dev/colab-wheels/public/simple/\n",
            "Collecting findspark\n",
            "  Downloading findspark-2.0.1-py2.py3-none-any.whl (4.4 kB)\n",
            "Installing collected packages: findspark\n",
            "Successfully installed findspark-2.0.1\n"
          ]
        }
      ]
    },
    {
      "cell_type": "code",
      "source": [
        "import findspark\n",
        "import ipywidgets as widgets\n",
        "from google.colab import files\n",
        "\n",
        "#findspark.init()\n",
        "# Importar las librerías necesarias\n",
        "from pyspark.sql import SparkSession\n",
        "import pyspark.ml as ml\n",
        "from pyspark.ml.feature import Tokenizer, StopWordsRemover, CountVectorizer, IDF\n",
        "from pyspark.ml.classification import NaiveBayes\n",
        "from pyspark.ml.evaluation import MulticlassClassificationEvaluator\n",
        "from pyspark.sql import functions as fct\n",
        "import os\n",
        "import io\n",
        "import pandas as pd\n",
        "import pyspark.ml as ml\n",
        "import matplotlib.pyplot as plt\n",
        "import seaborn as sns\n"
      ],
      "metadata": {
        "id": "YvaZUcYFbK4V"
      },
      "execution_count": null,
      "outputs": []
    },
    {
      "cell_type": "code",
      "source": [
        "\n",
        "# Crear una sesión de Spark\n",
        "spark = SparkSession.builder.appName(\"Clasificacion de Noticias\").getOrCreate()\n",
        "\n",
        "# Cargar los datos desde el archivo CSV\n",
        "data =  spark.read.format(\"csv\").option(\"header\", \"true\").load(\"/content/BBC News Train.csv\")\n",
        "(training_data, test_data) = data.randomSplit([0.7, 0.3], seed=100)\n",
        "\n",
        "# Convertir los datos a un formato adecuado para Spark ML\n",
        "tokenizer = Tokenizer(inputCol=\"Text\", outputCol=\"palabras\")\n",
        "remover_stopwords = StopWordsRemover(inputCol=\"palabras\", outputCol=\"palabras_sin_stopwords\")\n",
        "vectorizer = CountVectorizer(inputCol=\"palabras_sin_stopwords\", outputCol=\"features\")\n",
        "idf = IDF(inputCol=\"features\", outputCol=\"tf_idf\")\n",
        "stringIndexer = ml.feature.StringIndexer(inputCol=\"Category\", outputCol=\"ordinal_Category\", stringOrderType=\"alphabetAsc\")\n",
        "naive_bayes = NaiveBayes(labelCol=\"ordinal_Category\", featuresCol=\"tf_idf\")\n",
        "\n",
        "preprocess_pipeline = ml.Pipeline(stages=[tokenizer,remover_stopwords,vectorizer,idf,stringIndexer,naive_bayes])"
      ],
      "metadata": {
        "id": "tgvXr23AjY8w"
      },
      "execution_count": null,
      "outputs": []
    },
    {
      "cell_type": "code",
      "source": [
        "##diccionario para categorias\n",
        "dictionary_category={\n",
        "    0:'bussines',\n",
        "    1:'entertainment',\n",
        "    2:'politics',\n",
        "    3:'sports',\n",
        "    4:'tech'\n",
        "}"
      ],
      "metadata": {
        "id": "TmbgXuEf4AfU"
      },
      "execution_count": null,
      "outputs": []
    },
    {
      "cell_type": "code",
      "source": [
        "#entrenamiento\n",
        "modelo = preprocess_pipeline.fit(training_data)\n",
        "\n",
        "# Realizar predicciones sobre el conjunto de prueba\n",
        "predicciones = modelo.transform(test_data)\n"
      ],
      "metadata": {
        "id": "xEZuxwXl36M-"
      },
      "execution_count": null,
      "outputs": []
    },
    {
      "cell_type": "code",
      "execution_count": null,
      "metadata": {
        "id": "drj9MPOZboPE",
        "colab": {
          "base_uri": "https://localhost:8080/"
        },
        "outputId": "e6ca77eb-9fb9-413b-c7d2-6010bd663d6f"
      },
      "outputs": [
        {
          "output_type": "stream",
          "name": "stdout",
          "text": [
            "Precision: 0.9678899082568807\n",
            "F_score: [0.9509803921568627, 0.975, 0.9534883720930233, 0.9942857142857142, 0.968944099378882]\n"
          ]
        }
      ],
      "source": [
        "# Evaluar la precisión del modelo\n",
        "evaluador = MulticlassClassificationEvaluator(labelCol=\"ordinal_Category\", predictionCol=\"prediction\", metricName=\"accuracy\")\n",
        "f_score = []\n",
        "for i in range(0,5):\n",
        "  f_score.append((MulticlassClassificationEvaluator(labelCol=\"ordinal_Category\", predictionCol=\"prediction\", metricName=\"fMeasureByLabel\",metricLabel=i)).evaluate(predicciones))\n",
        "precision = evaluador.evaluate(predicciones)\n",
        "print(\"Precision:\", precision)\n",
        "print(\"F_score:\", f_score)\n"
      ]
    },
    {
      "cell_type": "code",
      "source": [
        "# Datos a graficar\n",
        "etiquetas = ['Precisión', '']\n",
        "valores = [precision*100, (1-precision)*100]\n",
        "colores = ['#ff9999','#66b3ff']\n",
        "\n",
        "# Crear el gráfico de torta con matplotlib\n",
        "fig, ax = plt.subplots(figsize=(8, 6))\n",
        "ax.pie(valores, labels=etiquetas, colors=colores, autopct='%1.1f%%', startangle=90)\n",
        "\n",
        "# Ajustar el estilo del gráfico\n",
        "ax.axis('equal')\n",
        "ax.set_title('Precisión general', fontsize=16, fontweight='bold')\n",
        "\n",
        "# Mostrar el gráfico\n",
        "plt.show()"
      ],
      "metadata": {
        "colab": {
          "base_uri": "https://localhost:8080/",
          "height": 530
        },
        "id": "zyrZ4Q5BWpMH",
        "outputId": "43c21f9d-3f4b-4f1c-f2e2-c4d3d2a79957"
      },
      "execution_count": null,
      "outputs": [
        {
          "output_type": "display_data",
          "data": {
            "text/plain": [
              "<Figure size 800x600 with 1 Axes>"
            ],
            "image/png": "[encoded data removed]"
          },
          "metadata": {}
        }
      ]
    },
    {
      "cell_type": "code",
      "source": [
        "# Datos a graficar\n",
        "etiquetas = [dictionary_category[0], dictionary_category[1], dictionary_category[2], dictionary_category[3], dictionary_category[4]]\n",
        "valores = [f_score[0]*100, f_score[1]*100, f_score[2]*100, f_score[3]*100, f_score[4]*100]\n",
        "sns.set_style('whitegrid')\n",
        "fig, ax = plt.subplots()\n",
        "ax = sns.barplot(x=etiquetas, y=valores)\n",
        "\n",
        "# Añadir título y etiquetas a los ejes\n",
        "sns.despine()\n",
        "ax.set_title('Precisión por categoría', fontsize=16, fontweight='bold')\n",
        "ax.set_xlabel('Categorias ', fontsize=14)\n",
        "ax.set_ylabel('Precisión(%)', fontsize=14)\n",
        "ax.tick_params(labelsize=12)\n",
        "ax.grid(axis='y', linestyle='--')\n",
        "# Mostrar el gráfico\n",
        "plt.show()\n"
      ],
      "metadata": {
        "colab": {
          "base_uri": "https://localhost:8080/",
          "height": 484
        },
        "id": "ARwCLw3TeayC",
        "outputId": "87fb181c-c76c-4a4a-bb67-d737a7c943c8"
      },
      "execution_count": null,
      "outputs": [
        {
          "output_type": "display_data",
          "data": {
            "text/plain": [
              "<Figure size 640x480 with 1 Axes>"
            ],
            "image/png": "[encoded data removed]"
          },
          "metadata": {}
        }
      ]
    },
    {
      "cell_type": "code",
      "source": [
        "# Función que se ejecuta cuando se selecciona un archivo\n",
        "def on_file_upload(change):\n",
        "    # Obtener el nombre del archivo y el contenido\n",
        "    filename = next(iter(change.new))\n",
        "    content = change.new[filename]['content']\n",
        "\n",
        "    # Guardar el archivo en el entorno de Colab\n",
        "    with open(filename, 'wb') as file:\n",
        "        file.write(content)\n",
        "\n",
        "    # Obtener la ruta absoluta del archivo\n",
        "    file_path = os.path.abspath(filename)\n",
        "    print(f\"El archivo '{filename}' se ha guardado en el entorno de Colab.\")\n",
        "    test = spark.read.format(\"csv\").option(\"header\", \"true\").load(file_path)\n",
        "    predicciones_test = modelo.transform(test)\n",
        "    prediction_rdd = predicciones_test.rdd.map(lambda x: (x.ArticleId,x.Text,dictionary_category[x.prediction])).collect()\n",
        "    prediction_df = spark.createDataFrame(prediction_rdd, schema = [\"ArticleId\",\"Text\",\"Category_prediction\"])\n",
        "    prediction_df.show()\n",
        "    countr = prediction_df.groupby(prediction_df.Category_prediction).count()\n",
        "    countr.show()\n",
        " \n",
        "\n",
        "\n",
        "\n",
        "# Crear el botón de carga\n",
        "upload_button = widgets.FileUpload(description='Cargar archivo',accept='.csv', multiple=False)\n",
        "\n",
        "# Asignar la función on_file_upload al botón\n",
        "upload_button.observe(on_file_upload, names=['value'])\n",
        "\n",
        "# Mostrar el botón en el notebook\n",
        "display(upload_button)"
      ],
      "metadata": {
        "id": "O_UW4g5X5k07",
        "colab": {
          "base_uri": "https://localhost:8080/",
          "height": 969,
          "referenced_widgets": [
            "6c17baf5b2ce4111a7a6621bc50cca5b",
            "4668393357a244a68dcaab55e136f317",
            "000fc4f0a5f742ffb26dcbaf30d213cc"
          ]
        },
        "outputId": "077dfa1e-f36f-4f6c-844f-1ca64be2a7b5"
      },
      "execution_count": null,
      "outputs": [
        {
          "output_type": "display_data",
          "data": {
            "text/plain": [
              "FileUpload(value={}, accept='.csv', description='Cargar archivo')"
            ],
            "application/vnd.jupyter.widget-view+json": {
              "version_major": 2,
              "version_minor": 0,
              "model_id": "6c17baf5b2ce4111a7a6621bc50cca5b"
            }
          },
          "metadata": {}
        },
        {
          "output_type": "stream",
          "name": "stdout",
          "text": [
            "El archivo 'BBC News Test.csv' se ha guardado en el entorno de Colab.\n",
            "+---------+--------------------+-------------------+\n",
            "|ArticleId|                Text|Category_prediction|\n",
            "+---------+--------------------+-------------------+\n",
            "|     1018|qpr keeper day he...|             sports|\n",
            "|     1319|software watching...|               tech|\n",
            "|     1138|d arcy injury add...|             sports|\n",
            "|      459|india s reliance ...|           bussines|\n",
            "|     1020|boro suffer morri...|             sports|\n",
            "|       51|lewsey puzzle ove...|             sports|\n",
            "|     2025|blair blasts tory...|           politics|\n",
            "|     1479|former ni ministe...|           politics|\n",
            "|       27|career honour for...|      entertainment|\n",
            "|      397|tsunami  to hit s...|           bussines|\n",
            "|     1644|us economy still ...|           bussines|\n",
            "|      263|digital uk driven...|               tech|\n",
            "|      765|blunkett tells of...|           politics|\n",
            "|     2134|ibm puts cash beh...|               tech|\n",
            "|      297|cage film s third...|      entertainment|\n",
            "|     1712|souness backs smi...|             sports|\n",
            "|     1631|ukip mep attacked...|           politics|\n",
            "|      942|cheaper chip for ...|               tech|\n",
            "|     1549|usher leads soul ...|      entertainment|\n",
            "|      516|india to deport b...|      entertainment|\n",
            "+---------+--------------------+-------------------+\n",
            "only showing top 20 rows\n",
            "\n",
            "+-------------------+-----+\n",
            "|Category_prediction|count|\n",
            "+-------------------+-----+\n",
            "|           politics|  149|\n",
            "|             sports|  165|\n",
            "|      entertainment|  110|\n",
            "|           bussines|  168|\n",
            "|               tech|  143|\n",
            "+-------------------+-----+\n",
            "\n",
            "El archivo 'test_3news.csv' se ha guardado en el entorno de Colab.\n",
            "+---------+--------------------+-------------------+\n",
            "|ArticleId|                Text|Category_prediction|\n",
            "+---------+--------------------+-------------------+\n",
            "|     1018|qpr keeper day he...|             sports|\n",
            "|     1319|software watching...|               tech|\n",
            "|     1138|d arcy injury add...|             sports|\n",
            "+---------+--------------------+-------------------+\n",
            "\n",
            "+-------------------+-----+\n",
            "|Category_prediction|count|\n",
            "+-------------------+-----+\n",
            "|             sports|    2|\n",
            "|               tech|    1|\n",
            "+-------------------+-----+\n",
            "\n"
          ]
        }
      ]
    },
    {
      "cell_type": "code",
      "source": [
        "input_file = list(upload_button.value.values())[0]\n",
        "content = input_file['content']\n",
        "content = io.StringIO(content.decode('utf-8'))\n",
        "df = pd.read_csv(content)\n",
        "df.head()"
      ],
      "metadata": {
        "id": "GQBMHBhnaXjS",
        "colab": {
          "base_uri": "https://localhost:8080/",
          "height": 750
        },
        "outputId": "e9cfe246-787f-4fa0-e10e-6af06f1912d5"
      },
      "execution_count": null,
      "outputs": [
        {
          "output_type": "execute_result",
          "data": {
            "text/plain": [
              "   ArticleId                                               Text\n",
              "0       1018  qpr keeper day heads for preston queens park r...\n",
              "1       1319  software watching while you work software that...\n",
              "2       1138  d arcy injury adds to ireland woe gordon d arc..."
            ],
            "text/html": [
              "\n",
              "  <div id=\"df-b69f2f8b-b2cb-4235-b9ad-469ab5bd0e8a\">\n",
              "    <div class=\"colab-df-container\">\n",
              "      <div>\n",
              "<style scoped>\n",
              "    .dataframe tbody tr th:only-of-type {\n",
              "        vertical-align: middle;\n",
              "    }\n",
              "\n",
              "    .dataframe tbody tr th {\n",
              "        vertical-align: top;\n",
              "    }\n",
              "\n",
              "    .dataframe thead th {\n",
              "        text-align: right;\n",
              "    }\n",
              "</style>\n",
              "<table border=\"1\" class=\"dataframe\">\n",
              "  <thead>\n",
              "    <tr style=\"text-align: right;\">\n",
              "      <th></th>\n",
              "      <th>ArticleId</th>\n",
              "      <th>Text</th>\n",
              "    </tr>\n",
              "  </thead>\n",
              "  <tbody>\n",
              "    <tr>\n",
              "      <th>0</th>\n",
              "      <td>1018</td>\n",
              "      <td>qpr keeper day heads for preston queens park r...</td>\n",
              "    </tr>\n",
              "    <tr>\n",
              "      <th>1</th>\n",
              "      <td>1319</td>\n",
              "      <td>software watching while you work software that...</td>\n",
              "    </tr>\n",
              "    <tr>\n",
              "      <th>2</th>\n",
              "      <td>1138</td>\n",
              "      <td>d arcy injury adds to ireland woe gordon d arc...</td>\n",
              "    </tr>\n",
              "  </tbody>\n",
              "</table>\n",
              "</div>\n",
              "      <button class=\"colab-df-convert\" onclick=\"convertToInteractive('df-b69f2f8b-b2cb-4235-b9ad-469ab5bd0e8a')\"\n",
              "              title=\"Convert this dataframe to an interactive table.\"\n",
              "              style=\"display:none;\">\n",
              "        \n",
              "  <svg xmlns=\"http://www.w3.org/2000/svg\" height=\"24px\"viewBox=\"0 0 24 24\"\n",
              "       width=\"24px\">\n",
              "    <path d=\"M0 0h24v24H0V0z\" fill=\"none\"/>\n",
              "    <path d=\"M18.56 5.44l.94 2.06.94-2.06 2.06-.94-2.06-.94-.94-2.06-.94 2.06-2.06.94zm-11 1L8.5 8.5l.94-2.06 2.06-.94-2.06-.94L8.5 2.5l-.94 2.06-2.06.94zm10 10l.94 2.06.94-2.06 2.06-.94-2.06-.94-.94-2.06-.94 2.06-2.06.94z\"/><path d=\"M17.41 7.96l-1.37-1.37c-.4-.4-.92-.59-1.43-.59-.52 0-1.04.2-1.43.59L10.3 9.45l-7.72 7.72c-.78.78-.78 2.05 0 2.83L4 21.41c.39.39.9.59 1.41.59.51 0 1.02-.2 1.41-.59l7.78-7.78 2.81-2.81c.8-.78.8-2.07 0-2.86zM5.41 20L4 18.59l7.72-7.72 1.47 1.35L5.41 20z\"/>\n",
              "  </svg>\n",
              "      </button>\n",
              "      \n",
              "  <style>\n",
              "    .colab-df-container {\n",
              "      display:flex;\n",
              "      flex-wrap:wrap;\n",
              "      gap: 12px;\n",
              "    }\n",
              "\n",
              "    .colab-df-convert {\n",
              "      background-color: #E8F0FE;\n",
              "      border: none;\n",
              "      border-radius: 50%;\n",
              "      cursor: pointer;\n",
              "      display: none;\n",
              "      fill: #1967D2;\n",
              "      height: 32px;\n",
              "      padding: 0 0 0 0;\n",
              "      width: 32px;\n",
              "    }\n",
              "\n",
              "    .colab-df-convert:hover {\n",
              "      background-color: #E2EBFA;\n",
              "      box-shadow: 0px 1px 2px rgba(60, 64, 67, 0.3), 0px 1px 3px 1px rgba(60, 64, 67, 0.15);\n",
              "      fill: #174EA6;\n",
              "    }\n",
              "\n",
              "    [theme=dark] .colab-df-convert {\n",
              "      background-color: #3B4455;\n",
              "      fill: #D2E3FC;\n",
              "    }\n",
              "\n",
              "    [theme=dark] .colab-df-convert:hover {\n",
              "      background-color: #434B5C;\n",
              "      box-shadow: 0px 1px 3px 1px rgba(0, 0, 0, 0.15);\n",
              "      filter: drop-shadow(0px 1px 2px rgba(0, 0, 0, 0.3));\n",
              "      fill: #FFFFFF;\n",
              "    }\n",
              "  </style>\n",
              "\n",
              "      <script>\n",
              "        const buttonEl =\n",
              "          document.querySelector('#df-b69f2f8b-b2cb-4235-b9ad-469ab5bd0e8a button.colab-df-convert');\n",
              "        buttonEl.style.display =\n",
              "          google.colab.kernel.accessAllowed ? 'block' : 'none';\n",
              "\n",
              "        async function convertToInteractive(key) {\n",
              "          const element = document.querySelector('#df-b69f2f8b-b2cb-4235-b9ad-469ab5bd0e8a');\n",
              "          const dataTable =\n",
              "            await google.colab.kernel.invokeFunction('convertToInteractive',\n",
              "                                                     [key], {});\n",
              "          if (!dataTable) return;\n",
              "\n",
              "          const docLinkHtml = 'Like what you see? Visit the ' +\n",
              "            '<a target=\"_blank\" href=https://colab.research.google.com/notebooks/data_table.ipynb>data table notebook</a>'\n",
              "            + ' to learn more about interactive tables.';\n",
              "          element.innerHTML = '';\n",
              "          dataTable['output_type'] = 'display_data';\n",
              "          await google.colab.output.renderOutput(dataTable, element);\n",
              "          const docLink = document.createElement('div');\n",
              "          docLink.innerHTML = docLinkHtml;\n",
              "          element.appendChild(docLink);\n",
              "        }\n",
              "      </script>\n",
              "    </div>\n",
              "  </div>\n",
              "  "
            ]
          },
          "metadata": {},
          "execution_count": 11
        }
      ]
    }
  ]
}